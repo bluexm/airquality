{
 "cells": [
  {
   "cell_type": "code",
   "execution_count": null,
   "id": "serial-lucas",
   "metadata": {},
   "outputs": [],
   "source": [
    "import requests as rqs\n",
    "import bs4 \n",
    "import pandas as pd \n",
    "import json \n",
    "from imp import reload\n",
    "import logging\n",
    "reload(logging)\n",
    "logging.basicConfig(filename='scrape_aqi.log', level=logging.INFO, format='%(asctime)s %(message)s')\n",
    "\n",
    "KAPI= \"7c88a4e043854ed6beeb8e06052616ef3d0fd01f\"\n",
    "stations_url = \"https://api.waqi.info/map/bounds/?token=\" + KAPI + \"&latlng=22.29,113.37,22.03,113.92\"\n",
    "values_url = \"https://api.waqi.info/feed/macau/?token=\"+KAPI\n",
    "\n",
    "rs = rqs.get(stations_url)\n",
    "ds = json.loads(rs.text)"
   ]
  },
  {
   "cell_type": "markdown",
   "id": "infinite-graduate",
   "metadata": {},
   "source": [
    "# records list of stations "
   ]
  },
  {
   "cell_type": "code",
   "execution_count": null,
   "id": "disturbed-continent",
   "metadata": {},
   "outputs": [],
   "source": [
    "if False:\n",
    "    df = pd.DataFrame(columns=['lat', 'lon', 'uid', 'name'])\n",
    "    for k in ds['data']:\n",
    "        df=df.append(pd.DataFrame([[k['lat'], k['lon'], k['uid'], k['station']['name']]],columns=df.columns))\n",
    "    df \n",
    "    df.to_csv('station_list.csv', index=False, encoding='utf-8')\n"
   ]
  },
  {
   "cell_type": "markdown",
   "id": "affiliated-irish",
   "metadata": {},
   "source": [
    "# Reads data "
   ]
  },
  {
   "cell_type": "code",
   "execution_count": 5,
   "id": "maritime-bonus",
   "metadata": {
    "scrolled": false
   },
   "outputs": [
    {
     "name": "stdout",
     "output_type": "stream",
     "text": [
      "getting data on 9888\n",
      "https://api.waqi.info/feed/@9888/?token=7c88a4e043854ed6beeb8e06052616ef3d0fd01f\n",
      "getting data on 785\n",
      "https://api.waqi.info/feed/@785/?token=7c88a4e043854ed6beeb8e06052616ef3d0fd01f\n",
      "getting data on 9052\n",
      "https://api.waqi.info/feed/@9052/?token=7c88a4e043854ed6beeb8e06052616ef3d0fd01f\n",
      "getting data on 1540\n",
      "https://api.waqi.info/feed/@1540/?token=7c88a4e043854ed6beeb8e06052616ef3d0fd01f\n",
      "getting data on 5373\n",
      "https://api.waqi.info/feed/@5373/?token=7c88a4e043854ed6beeb8e06052616ef3d0fd01f\n",
      "getting data on 786\n",
      "https://api.waqi.info/feed/@786/?token=7c88a4e043854ed6beeb8e06052616ef3d0fd01f\n",
      "getting data on 5372\n",
      "https://api.waqi.info/feed/@5372/?token=7c88a4e043854ed6beeb8e06052616ef3d0fd01f\n",
      "getting data on 5374\n",
      "https://api.waqi.info/feed/@5374/?token=7c88a4e043854ed6beeb8e06052616ef3d0fd01f\n",
      "getting data on 5375\n",
      "https://api.waqi.info/feed/@5375/?token=7c88a4e043854ed6beeb8e06052616ef3d0fd01f\n"
     ]
    }
   ],
   "source": [
    "df=pd.DataFrame(columns=['time', 'station','uid', 'aqi', 'co','h','no2','p','pm10','pm25','so2','t','w'])\n",
    "\n",
    "\"\"\"\n",
    "varnames = {\n",
    "        pm25: \"PM<sub>2.5</sub>\",\n",
    "        pm10: \"PM<sub>10</sub>\",\n",
    "        o3: \"Ozone\",\n",
    "        no2: \"Nitrogen Dioxide\",\n",
    "        so2: \"Sulphur Dioxide\",\n",
    "        co: \"Carbon Monoxyde\",\n",
    "        t: \"Temperature\",\n",
    "        w: \"Wind\",\n",
    "        r: \"Rain (precipitation)\",\n",
    "        h: \"Relative Humidity\",\n",
    "        d: \"Dew\",\n",
    "        p: \"Atmostpheric Pressure\",\n",
    "      };\n",
    "\"\"\"\n",
    "\n",
    "for d in ds['data']:\n",
    "    dico={}\n",
    "    print (\"getting data on \"+ str(d['uid']))\n",
    "    url = \"https://api.waqi.info/feed/@\"  + str(d['uid'])  + \"/?token=7c88a4e043854ed6beeb8e06052616ef3d0fd01f\"\n",
    "    print(url)\n",
    "    #logging.info(\"getting \"+url)\n",
    "    rv = rqs.get(url)\n",
    "    dv = json.loads(rv.text)\n",
    "    \n",
    "    dico['uid']=d['uid']\n",
    "    dico['station']=d['station']['name']\n",
    "    \n",
    "    dico['aqi']=dv['data']['aqi']\n",
    "    dico['time']= dv['data']['time']['s']\n",
    "    \n",
    "    for k in dv['data']['iaqi'].keys():\n",
    "        dico[k] = dv['data']['iaqi'][k]['v']\n",
    "        \n",
    "    \"\"\"\n",
    "    dico['h'] = dv['data']['iaqi']['h']['v']\n",
    "    dico['no2'] = dv['data']['iaqi']['no2']['v']\n",
    "    dico['p'] = dv['data']['iaqi']['p']['v']\n",
    "    dico['pm10'] = dv['data']['iaqi']['pm10']['v']\n",
    "    dico['pm25'] = dv['data']['iaqi']['pm25']['v']\n",
    "    dico['so2'] = dv['data']['iaqi']['so2']['v']\n",
    "    dico['t'] = dv['data']['iaqi']['t']['v']\n",
    "    dico['w'] = dv['data']['iaqi']['w']['v']\n",
    " \"\"\"\n",
    "\n",
    "\n",
    "    df = df.append(dico, ignore_index=True)\n",
    "\n",
    "df\n",
    "\n",
    "logging.shutdown()"
   ]
  },
  {
   "cell_type": "markdown",
   "id": "secure-danger",
   "metadata": {},
   "source": [
    "# save in csv"
   ]
  },
  {
   "cell_type": "code",
   "execution_count": 60,
   "id": "drawn-lexington",
   "metadata": {},
   "outputs": [
    {
     "name": "stdout",
     "output_type": "stream",
     "text": [
      "found 9 rows added to file\n"
     ]
    }
   ],
   "source": [
    "fn='scraped_data.csv'\n",
    "df.to_csv(fn, mode='a', header=True)  # record each url one after the other ... \n",
    "print(\"found \"+str(len(df))+\" rows added to file\")"
   ]
  }
 ],
 "metadata": {
  "kernelspec": {
   "display_name": "Python 3",
   "language": "python",
   "name": "python3"
  },
  "language_info": {
   "codemirror_mode": {
    "name": "ipython",
    "version": 3
   },
   "file_extension": ".py",
   "mimetype": "text/x-python",
   "name": "python",
   "nbconvert_exporter": "python",
   "pygments_lexer": "ipython3",
   "version": "3.6.12"
  }
 },
 "nbformat": 4,
 "nbformat_minor": 5
}
